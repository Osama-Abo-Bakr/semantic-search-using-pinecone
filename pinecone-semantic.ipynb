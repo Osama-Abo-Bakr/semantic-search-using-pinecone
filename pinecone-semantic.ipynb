{
 "cells": [
  {
   "cell_type": "markdown",
   "metadata": {},
   "source": [
    "#### `Semantic Search with Pinecone and Embeddings using HuggingFace Model`"
   ]
  },
  {
   "cell_type": "code",
   "execution_count": 1,
   "metadata": {},
   "outputs": [],
   "source": [
    "import os\n",
    "import pinecone\n",
    "from pinecone import Pinecone, ServerlessSpec\n",
    "import pandas as pd\n",
    "import numpy as np\n",
    "from tqdm import tqdm\n",
    "from dotenv import load_dotenv\n",
    "from sentence_transformers import SentenceTransformer"
   ]
  },
  {
   "cell_type": "markdown",
   "metadata": {},
   "source": [
    "* `Reading Data`"
   ]
  },
  {
   "cell_type": "code",
   "execution_count": 2,
   "metadata": {},
   "outputs": [
    {
     "data": {
      "text/html": [
       "<div>\n",
       "<style scoped>\n",
       "    .dataframe tbody tr th:only-of-type {\n",
       "        vertical-align: middle;\n",
       "    }\n",
       "\n",
       "    .dataframe tbody tr th {\n",
       "        vertical-align: top;\n",
       "    }\n",
       "\n",
       "    .dataframe thead th {\n",
       "        text-align: right;\n",
       "    }\n",
       "</style>\n",
       "<table border=\"1\" class=\"dataframe\">\n",
       "  <thead>\n",
       "    <tr style=\"text-align: right;\">\n",
       "      <th></th>\n",
       "      <th>title</th>\n",
       "      <th>id</th>\n",
       "      <th>class</th>\n",
       "    </tr>\n",
       "  </thead>\n",
       "  <tbody>\n",
       "    <tr>\n",
       "      <th>0</th>\n",
       "      <td>Mental Note Vol. 24</td>\n",
       "      <td>3054</td>\n",
       "      <td>class-a</td>\n",
       "    </tr>\n",
       "    <tr>\n",
       "      <th>1</th>\n",
       "      <td>Your Brain On Coronavirus</td>\n",
       "      <td>3055</td>\n",
       "      <td>class-b</td>\n",
       "    </tr>\n",
       "    <tr>\n",
       "      <th>2</th>\n",
       "      <td>Mind Your Nose</td>\n",
       "      <td>3056</td>\n",
       "      <td>class-a</td>\n",
       "    </tr>\n",
       "    <tr>\n",
       "      <th>3</th>\n",
       "      <td>The 4 Purposes of Dreams</td>\n",
       "      <td>3057</td>\n",
       "      <td>class-b</td>\n",
       "    </tr>\n",
       "    <tr>\n",
       "      <th>4</th>\n",
       "      <td>Surviving a Rod Through the Head</td>\n",
       "      <td>3058</td>\n",
       "      <td>class-a</td>\n",
       "    </tr>\n",
       "  </tbody>\n",
       "</table>\n",
       "</div>"
      ],
      "text/plain": [
       "                              title    id    class\n",
       "0               Mental Note Vol. 24  3054  class-a\n",
       "1         Your Brain On Coronavirus  3055  class-b\n",
       "2                    Mind Your Nose  3056  class-a\n",
       "3          The 4 Purposes of Dreams  3057  class-b\n",
       "4  Surviving a Rod Through the Head  3058  class-a"
      ]
     },
     "execution_count": 2,
     "metadata": {},
     "output_type": "execute_result"
    }
   ],
   "source": [
    "FOLDER_PATH = os.path.join(os.getcwd(), 'dataset-semantic')\n",
    "df = pd.read_csv(os.path.join(FOLDER_PATH, 'articles_new.csv'))\n",
    "df['class'] = ['class-a', 'class-b'] * 250\n",
    "df.head()"
   ]
  },
  {
   "cell_type": "markdown",
   "metadata": {},
   "source": [
    "* `Embeddings using HuggingFace Model`"
   ]
  },
  {
   "cell_type": "code",
   "execution_count": 3,
   "metadata": {},
   "outputs": [
    {
     "data": {
      "text/plain": [
       "SentenceTransformer(\n",
       "  (0): Transformer({'max_seq_length': 256, 'do_lower_case': False}) with Transformer model: BertModel \n",
       "  (1): Pooling({'word_embedding_dimension': 384, 'pooling_mode_cls_token': False, 'pooling_mode_mean_tokens': True, 'pooling_mode_max_tokens': False, 'pooling_mode_mean_sqrt_len_tokens': False, 'pooling_mode_weightedmean_tokens': False, 'pooling_mode_lasttoken': False, 'include_prompt': True})\n",
       "  (2): Normalize()\n",
       ")"
      ]
     },
     "execution_count": 3,
     "metadata": {},
     "output_type": "execute_result"
    }
   ],
   "source": [
    "model_hugging = SentenceTransformer(model_name_or_path='all-MiniLM-L6-v2', device='cpu')\n",
    "model_hugging"
   ]
  },
  {
   "cell_type": "code",
   "execution_count": 4,
   "metadata": {},
   "outputs": [
    {
     "name": "stdout",
     "output_type": "stream",
     "text": [
      "Length of Embedding model: 384\n"
     ]
    }
   ],
   "source": [
    "vect_length = len(model_hugging.encode(df['title'][0]))\n",
    "print('Length of Embedding model: {}'.format(vect_length))"
   ]
  },
  {
   "cell_type": "markdown",
   "metadata": {},
   "source": [
    "* `Pinecode In Code`"
   ]
  },
  {
   "cell_type": "code",
   "execution_count": 5,
   "metadata": {},
   "outputs": [],
   "source": [
    "_ = load_dotenv(override=True)\n",
    "PINECONE_API_KEY = os.getenv('PINECONE_API_KEY')"
   ]
  },
  {
   "cell_type": "code",
   "execution_count": 11,
   "metadata": {},
   "outputs": [
    {
     "name": "stdout",
     "output_type": "stream",
     "text": [
      "Deleting all indexes\n",
      "Creating Index: semantic-search-course\n",
      "Done Creating Index: semantic-search-course\n"
     ]
    },
    {
     "data": {
      "text/plain": [
       "<pinecone.data.index.Index at 0x236eef431f0>"
      ]
     },
     "execution_count": 11,
     "metadata": {},
     "output_type": "execute_result"
    }
   ],
   "source": [
    "pinecone = Pinecone(api_key=PINECONE_API_KEY)\n",
    "\n",
    "try:\n",
    "    print('Deleting all indexes')\n",
    "    _ = [pinecone.delete_index(name=index_name['name']) for index_name in pinecone.list_indexes()]\n",
    "except Exception as e:\n",
    "    print('Error In Deleting Indexes: {}'.format(e))\n",
    "    \n",
    "    \n",
    "index_name = 'semantic-search-course'\n",
    "if index_name not in pinecone.list_indexes():\n",
    "    print('Creating Index: {}'.format(index_name))\n",
    "    pinecone.create_index(\n",
    "        name=index_name,\n",
    "        dimension=vect_length,\n",
    "        metric='cosine',\n",
    "        spec=ServerlessSpec(cloud='aws', region='us-east-1')\n",
    "    )\n",
    "    print('Done Creating Index: {}'.format(index_name))\n",
    "    \n",
    "    \n",
    "index = pinecone.Index(index_name)\n",
    "index"
   ]
  },
  {
   "cell_type": "markdown",
   "metadata": {},
   "source": [
    "* `Upserting In Pinecone`"
   ]
  },
  {
   "cell_type": "code",
   "execution_count": 16,
   "metadata": {},
   "outputs": [],
   "source": [
    "faild_ids = []\n",
    "batch_size = 16\n",
    "for batch_start in range(0, len(df), batch_size):\n",
    "    \n",
    "    try:\n",
    "        batch_end = min(len(df), batch_start + batch_size)\n",
    "        \n",
    "        title_batch = df['title'][batch_start:batch_end].tolist()\n",
    "        ids_batch = df['id'][batch_start:batch_end].astype(str).tolist()\n",
    "        metadata_classes = df['class'][batch_start:batch_end].tolist()\n",
    "        \n",
    "        # Get Embedding using model\n",
    "        embeds_batch = model_hugging.encode(title_batch).tolist() \n",
    "        \n",
    "        \n",
    "        \n",
    "        # Prepare Dataset to Upserting\n",
    "        to_upsert = [(ids, embeds, {'class': cls})\n",
    "                                    for ids, embeds, cls in zip(ids_batch, embeds_batch, metadata_classes)]\n",
    "        \n",
    "        # Upserting to pinecone\n",
    "        index.upsert(to_upsert)\n",
    "    except Exception as e:\n",
    "        print('Error In Upserting: {}'.format(e))\n",
    "        faild_ids.append(ids_batch)\n",
    "    "
   ]
  },
  {
   "cell_type": "markdown",
   "metadata": {},
   "source": [
    "* `Query In Pinecone`"
   ]
  },
  {
   "cell_type": "code",
   "execution_count": 64,
   "metadata": {},
   "outputs": [
    {
     "data": {
      "text/plain": [
       "[{'id': '3552',\n",
       "  'metadata': {'class': 'class-a'},\n",
       "  'score': 0.773610115,\n",
       "  'values': []},\n",
       " {'id': '3368',\n",
       "  'metadata': {'class': 'class-a'},\n",
       "  'score': 0.36518091,\n",
       "  'values': []},\n",
       " {'id': '3393',\n",
       "  'metadata': {'class': 'class-b'},\n",
       "  'score': 0.345991075,\n",
       "  'values': []},\n",
       " {'id': '3107',\n",
       "  'metadata': {'class': 'class-b'},\n",
       "  'score': 0.330545843,\n",
       "  'values': []},\n",
       " {'id': '3524',\n",
       "  'metadata': {'class': 'class-a'},\n",
       "  'score': 0.269790083,\n",
       "  'values': []}]"
      ]
     },
     "execution_count": 64,
     "metadata": {},
     "output_type": "execute_result"
    }
   ],
   "source": [
    "query_text = 'Neutral Technology'\n",
    "\n",
    "# Embedding using model\n",
    "query_embeds = model_hugging.encode(query_text).tolist()\n",
    "\n",
    "# Search In Pinecone\n",
    "result = index.query(vector=[query_embeds], top_k=5, include_metadata=True,)\n",
    "result['matches']"
   ]
  },
  {
   "cell_type": "markdown",
   "metadata": {},
   "source": [
    "* `Deleting In Pinecone`"
   ]
  },
  {
   "cell_type": "code",
   "execution_count": null,
   "metadata": {},
   "outputs": [],
   "source": [
    "# Deleting Records\n",
    "_ = index.delete(ids=['3087', '3144'])"
   ]
  },
  {
   "cell_type": "markdown",
   "metadata": {},
   "source": [
    "* `Fetching In Pinecone`"
   ]
  },
  {
   "cell_type": "code",
   "execution_count": 43,
   "metadata": {},
   "outputs": [
    {
     "data": {
      "text/plain": [
       "[-0.0863685459,\n",
       " -0.0565062389,\n",
       " -0.0596554354,\n",
       " 0.0517030247,\n",
       " 0.0311833397,\n",
       " -0.106662802,\n",
       " -0.0539679676,\n",
       " 0.0847911164,\n",
       " -0.0917322934,\n",
       " 0.0162194]"
      ]
     },
     "execution_count": 43,
     "metadata": {},
     "output_type": "execute_result"
    }
   ],
   "source": [
    "index.fetch(ids=['3191'])['vectors']['3191']['values'][:10]"
   ]
  },
  {
   "cell_type": "markdown",
   "metadata": {},
   "source": [
    "* `Update In Pinecone`"
   ]
  },
  {
   "cell_type": "code",
   "execution_count": 65,
   "metadata": {},
   "outputs": [],
   "source": [
    "text_updating = 'Osama Abo Bakr'\n",
    "embeds_updating = model_hugging.encode(text_updating).tolist()\n",
    "\n",
    "_ = index.update(\n",
    "    id='3191',\n",
    "    values=embeds_updating\n",
    ")"
   ]
  },
  {
   "cell_type": "code",
   "execution_count": 66,
   "metadata": {},
   "outputs": [
    {
     "data": {
      "text/plain": [
       "[-0.0474119,\n",
       " 0.0783691928,\n",
       " -0.0581575111,\n",
       " 0.047289934,\n",
       " -0.0269384403,\n",
       " -0.0185756385,\n",
       " 0.10783001,\n",
       " 0.00541882776,\n",
       " -0.0265732408,\n",
       " 0.0184976868]"
      ]
     },
     "execution_count": 66,
     "metadata": {},
     "output_type": "execute_result"
    }
   ],
   "source": [
    "index.fetch(ids=['3191'])['vectors']['3191']['values'][:10]"
   ]
  },
  {
   "cell_type": "markdown",
   "metadata": {},
   "source": [
    "* `Updating Using Upsert`"
   ]
  },
  {
   "cell_type": "code",
   "execution_count": 61,
   "metadata": {},
   "outputs": [
    {
     "name": "stdout",
     "output_type": "stream",
     "text": [
      "[-0.047411900013685226, 0.07836919277906418, -0.05815751105546951, 0.04728993400931358, -0.026938440278172493, -0.01857563853263855, 0.10783001035451889, 0.005418827757239342, -0.026573240756988525, 0.018497686833143234, -0.013193309307098389, -0.03892706707119942, 0.067252017557621, -0.005205471999943256, 0.00435540871694684, 0.13630607724189758, 0.035901233553886414, 0.03279680386185646, -0.018097978085279465, 0.004009360913187265, 0.020394407212734222, 0.01781482622027397, 0.05665455758571625, 0.029246747493743896, -0.03364397957921028, 0.0023684061598032713, 0.0679248720407486, 0.06725198030471802, -0.017632409930229187, 0.0058637396432459354, 0.002474074950441718, 0.01614825241267681, 0.07860083132982254, -0.03003884293138981, 0.007647181395441294, 0.025310400873422623, 0.03912106528878212, 0.051341909915208817, 0.015569137409329414, -0.01429154071956873, 0.016430802643299103, -0.05383088067173958, 0.0016967522678896785, -0.009152666665613651, 0.08717261254787445, -0.055897410959005356, -0.023110540583729744, 0.02886503003537655, 0.07420136779546738, 0.04712627828121185, -0.09376548230648041, -0.0263839028775692, -0.07214298844337463, -0.015737643465399742, 0.08656671643257141, -0.09772974252700806, -0.05240946263074875, 0.02049846202135086, 0.04187079519033432, -0.04254639148712158, -0.03527088835835457, 0.02195051684975624, 0.026591498404741287, 0.04954680800437927, 0.061886586248874664, -0.05581512302160263, 0.006529761478304863, -0.017271343618631363, -0.07874176651239395, 0.08120039850473404, 0.06806725263595581, -0.016240470111370087, 0.0727773979306221, 0.003324885619804263, -0.06852079927921295, -0.04270941764116287, 0.0651988536119461, 0.051899299025535583, -0.02068173512816429, 0.007964580319821835, 0.0015364608261734247, -0.09371549636125565, -0.06292590498924255, 0.03380303457379341, -0.050682373344898224, 0.0013331098016351461, -0.004519326146692038, -0.03404079005122185, -0.06780468672513962, 0.07101554423570633, 0.021164724603295326, -0.013893084600567818, 0.014547119848430157, -0.05800134688615799, -0.022049184888601303, -0.08031844347715378, 0.017739566043019295, -0.002595233730971813, -0.08700822293758392, 0.15656274557113647, -0.0602416954934597, -0.02931860275566578, 0.038728270679712296, 0.011939551681280136, 0.02179204672574997, -0.008422575891017914, 0.046741727739572525, -0.03254025802016258, 0.0379679799079895, 0.01039839070290327, -0.08046692609786987, -0.06539467722177505, -0.07822813838720322, -0.03764898329973221, 0.05109085887670517, -0.03719170391559601, -0.05977046862244606, -0.06164449080824852, -0.10127036273479462, -0.007439092267304659, 0.03450896963477135, 0.03353032097220421, -0.051411859691143036, 0.021440429612994194, -0.020537378266453743, -0.0671161562204361, 0.04408303648233414, 2.6337138274585514e-33, -0.005467449314892292, -0.08180974423885345, 0.05925275757908821, 0.014934857375919819, -0.03869296610355377, 0.014149393886327744, -0.0730137750506401, -0.05310888960957527, -0.09093255549669266, 0.024296218529343605, -0.033022720366716385, 0.013337268494069576, 0.016858918592333794, 0.006123011931777, 0.09946154803037643, 0.044260647147893906, -0.02108539268374443, -0.021627767011523247, 0.02731413021683693, 0.01808236539363861, -0.007389678619801998, -0.006240764632821083, -0.05812893807888031, 0.014140683226287365, 0.011263735592365265, 0.03648530691862106, 0.10096734762191772, -0.09284216165542603, -0.03219195827841759, 0.06908851861953735, 0.010739734396338463, 0.08852606266736984, -0.07921259105205536, -0.039565928280353546, -0.043571390211582184, -0.08288951963186264, -0.0644003376364708, -0.062152259051799774, -0.07309428602457047, -0.05118317902088165, 0.030372614040970802, -0.017738936468958855, -0.00694590387865901, 0.045201558619737625, 0.05538429319858551, -0.04840891808271408, 0.0025323291774839163, 0.05020990967750549, 0.12745951116085052, 0.055093515664339066, -0.008816824294626713, 0.02871020883321762, -0.04931532219052315, 0.0006741653778590262, -0.012710122391581535, -0.04437563195824623, -0.024753527715802193, 0.028142431750893593, 0.03957858309149742, 0.01724192127585411, 0.01468892302364111, -0.051241546869277954, -0.02595970779657364, 0.024641316384077072, -0.0866086408495903, -0.039082929491996765, 0.0038668180350214243, -0.03739849105477333, -0.020996280014514923, -0.08218349516391754, 0.03671826794743538, -0.019000446423888206, 0.0552123561501503, 0.03369821608066559, -0.16084642708301544, 0.043580204248428345, 0.09246709197759628, -0.030375391244888306, -0.08624226599931717, 0.04534107446670532, 0.009664020501077175, 0.07981855422258377, 0.1282675415277481, -0.05252513289451599, 0.016875460743904114, 0.14522653818130493, 0.006669114343822002, -0.09630541503429413, -0.020403753966093063, 0.04958854988217354, -0.021629951894283295, 0.04981234297156334, -0.015781886875629425, -0.047401413321495056, -0.041160810738801956, -3.367118344590008e-33, 0.00837695598602295, -0.024019863456487656, 0.007171356584876776, -0.04111602157354355, 0.015108978375792503, -0.03526688367128372, 0.020517507568001747, 0.02256421558558941, 0.01204431988298893, 0.015464863739907742, 0.003699489636346698, -0.04486493766307831, 0.11968185752630234, -0.026058876886963844, 0.02506568282842636, 0.008272910490632057, 0.07975584268569946, 0.03443274646997452, -0.0033848071470856667, -0.06068776920437813, 0.02220984920859337, 0.03310149163007736, 0.05130172148346901, -0.03065527230501175, -0.07836552709341049, -0.027211148291826248, 0.06945444643497467, 0.04709735885262489, -0.08207355439662933, 0.0601043626666069, -4.006844028481282e-05, -0.00881402101367712, -0.07737691700458527, 0.05760283023118973, 0.01472766138613224, 0.051764439791440964, -0.032342780381441116, 0.04090598225593567, -0.0255702156573534, 0.05644199252128601, -0.020665621384978294, 0.06338921189308167, -0.06889750063419342, -0.05779699981212616, 0.03340572491288185, 0.029546380043029785, -0.044900476932525635, 0.07081079483032227, 0.022627241909503937, -0.07531468570232391, 0.02261088788509369, 0.04719381779432297, -0.023659123107790947, -0.035584285855293274, 0.06107240170240402, 0.06270011514425278, -0.08478980511426926, -0.04666515812277794, 0.04895474761724472, -0.012293694540858269, 0.024808017536997795, 0.020858991891145706, 0.07218358665704727, 0.015461921691894531, -0.009511669166386127, 0.08689971268177032, 0.02919207699596882, 0.028995487838983536, -0.01823415234684944, -0.029614627361297607, 0.05831858515739441, -0.006365699227899313, -0.12462936341762543, 0.039405904710292816, 0.0063680917955935, 0.08044378459453583, -0.10593156516551971, 0.0386132188141346, -0.0972563847899437, -0.004811843857169151, -0.025280652567744255, 0.05670887604355812, -0.06976291537284851, 0.06422962993383408, -0.05783931165933609, 0.007700687274336815, 0.037653595209121704, -0.05533558130264282, -0.0032761371694505215, -0.03632991015911102, -0.029789643362164497, -0.03714923560619354, 0.021307269111275673, -0.022527899593114853, -0.07845476269721985, -1.8309911808955803e-08, -0.10625039041042328, -0.01755637675523758, 0.012843769043684006, 0.010663028806447983, 0.06198466941714287, 0.08019150793552399, -0.06855899095535278, -0.07878796756267548, 0.03427787497639656, -0.007600873243063688, 0.025671372190117836, 0.003029815386980772, -0.032467976212501526, 0.03642895445227623, 0.010348426178097725, 0.052561767399311066, 0.0322447270154953, -0.022212354466319084, 0.031446781009435654, -0.03661298751831055, 0.04433726891875267, -0.01699848845601082, 0.042178671807050705, 0.02840198203921318, -0.009409219957888126, 0.06770127266645432, -0.07391724735498428, 0.03184516727924347, 0.03943847864866257, 0.06204690784215927, 0.007090659812092781, 0.021353518590331078, -0.0536421462893486, -0.1104469820857048, -0.023583920672535896, 0.04034949466586113, -0.04938964173197746, 0.039731286466121674, -0.026485035195946693, 0.021759789437055588, -0.01586425118148327, -0.020131945610046387, 0.127561554312706, 0.023042501881718636, -0.021145954728126526, 0.000250310346018523, -0.017009731382131577, -0.03550764173269272, -0.008006892167031765, -0.09481816738843918, -0.021018685773015022, -0.002541367197409272, 0.05068351328372955, 0.0387035496532917, 0.07207643985748291, -0.025075148791074753, 0.027515657246112823, -0.0666322410106659, -0.005434696096926928, 0.02569875679910183, 0.08803905546665192, -0.04448424652218819, 0.004908120725303888, -0.03536072373390198]\n"
     ]
    },
    {
     "data": {
      "text/plain": [
       "[-0.0474119,\n",
       " 0.0783691928,\n",
       " -0.0581575111,\n",
       " 0.047289934,\n",
       " -0.0269384403,\n",
       " -0.0185756385,\n",
       " 0.10783001,\n",
       " 0.00541882776,\n",
       " -0.0265732408,\n",
       " 0.0184976868]"
      ]
     },
     "execution_count": 61,
     "metadata": {},
     "output_type": "execute_result"
    }
   ],
   "source": [
    "text_updating = 'Osama Abo Bakr'\n",
    "embeds_updating = model_hugging.encode(text_updating).tolist()\n",
    "\n",
    "print(embeds_updating)\n",
    "\n",
    "_ = index.upsert(\n",
    "    vectors=[('3191', embeds_updating)]\n",
    ")\n",
    "\n",
    "index.fetch(ids=['3191'])['vectors']['3191']['values'][:10]"
   ]
  },
  {
   "cell_type": "code",
   "execution_count": null,
   "metadata": {},
   "outputs": [],
   "source": []
  }
 ],
 "metadata": {
  "kernelspec": {
   "display_name": "vectorDB",
   "language": "python",
   "name": "python3"
  },
  "language_info": {
   "codemirror_mode": {
    "name": "ipython",
    "version": 3
   },
   "file_extension": ".py",
   "mimetype": "text/x-python",
   "name": "python",
   "nbconvert_exporter": "python",
   "pygments_lexer": "ipython3",
   "version": "3.10.9"
  }
 },
 "nbformat": 4,
 "nbformat_minor": 2
}
